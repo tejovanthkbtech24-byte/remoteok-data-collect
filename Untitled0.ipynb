{
  "nbformat": 4,
  "nbformat_minor": 0,
  "metadata": {
    "colab": {
      "provenance": []
    },
    "kernelspec": {
      "name": "python3",
      "display_name": "Python 3"
    },
    "language_info": {
      "name": "python"
    }
  },
  "cells": [
    {
      "cell_type": "code",
      "execution_count": 1,
      "metadata": {
        "colab": {
          "base_uri": "https://localhost:8080/"
        },
        "id": "T7T1wp4KxFk5",
        "outputId": "58e3562b-2c8a-429d-cd44-c54b91627723"
      },
      "outputs": [
        {
          "output_type": "stream",
          "name": "stdout",
          "text": [
            "RemoteOK scraper starting...\n",
            "Trying JSON endpoint: https://remoteok.com/api\n",
            "JSON data loaded from: https://remoteok.com/api\n",
            "\n",
            "Saved 96 rows -> remoteok_jobs.csv\n"
          ]
        }
      ],
      "source": [
        "\n",
        "\"\"\"\n",
        "remoteok_scraper.py\n",
        "Fetch RemoteOK jobs (via JSON API if available) and save to remoteok_jobs.csv\n",
        "Fields saved: company, role, location, tags, remoteok_url\n",
        "\"\"\"\n",
        "\n",
        "import requests\n",
        "import pandas as pd\n",
        "from bs4 import BeautifulSoup\n",
        "\n",
        "ENDPOINTS = [\n",
        "    \"https://remoteok.com/api\",\n",
        "    \"https://remoteok.io/api\",\n",
        "    \"https://remoteok.com/json\",\n",
        "    \"https://remoteok.com/remote-jobs.json\",\n",
        "    \"https://remoteok.com/r\"   # fallback\n",
        "]\n",
        "\n",
        "HEADERS = {\n",
        "    \"User-Agent\": \"Mozilla/5.0 (compatible; RemoteOKScraper/1.0; +https://github.com/yourusername)\"\n",
        "}\n",
        "\n",
        "def try_json_endpoints():\n",
        "    for url in ENDPOINTS:\n",
        "        try:\n",
        "            print(f\"Trying JSON endpoint: {url}\")\n",
        "            resp = requests.get(url, headers=HEADERS, timeout=12)\n",
        "            resp.raise_for_status()\n",
        "            # If endpoint returns HTML (not JSON), .json() will raise\n",
        "            data = resp.json()\n",
        "            # many RemoteOK feeds start with a meta object (id == 0), filter it out\n",
        "            if isinstance(data, list) and len(data) > 0 and isinstance(data[0], dict) and data[0].get(\"id\") == 0:\n",
        "                data = data[1:]\n",
        "            if isinstance(data, list):\n",
        "                return data, url\n",
        "        except Exception as e:\n",
        "            print(f\"  -> failed: {e}\")\n",
        "    return None, None\n",
        "\n",
        "def parse_json_list(data):\n",
        "    rows = []\n",
        "    for job in data:\n",
        "        if not isinstance(job, dict):\n",
        "            continue\n",
        "        company = job.get(\"company\") or job.get(\"company_name\") or \"\"\n",
        "        role = job.get(\"position\") or job.get(\"title\") or \"\"\n",
        "        # location can be a string or list\n",
        "        location = job.get(\"location\") or job.get(\"locations\") or \"\"\n",
        "        # tags usually a list\n",
        "        tags = job.get(\"tags\") or job.get(\"tags_list\") or []\n",
        "        if isinstance(tags, list):\n",
        "            tags = \",\".join([str(t).strip() for t in tags])\n",
        "        else:\n",
        "            tags = str(tags)\n",
        "        url = job.get(\"url\") or job.get(\"link\") or job.get(\"apply_url\") or \"\"\n",
        "        rows.append({\n",
        "            \"company\": company.strip(),\n",
        "            \"role\": role.strip(),\n",
        "            \"location\": location if isinstance(location, str) else \",\".join(location),\n",
        "            \"tags\": tags,\n",
        "            \"remoteok_url\": url\n",
        "        })\n",
        "    return rows\n",
        "\n",
        "def html_fallback(url=\"https://remoteok.com/r\"):\n",
        "    print(\"Falling back to HTML parsing:\", url)\n",
        "    resp = requests.get(url, headers=HEADERS, timeout=12)\n",
        "    resp.raise_for_status()\n",
        "    soup = BeautifulSoup(resp.text, \"lxml\")\n",
        "    rows = []\n",
        "    # RemoteOK frequently marks job rows with <tr class=\"job\" data-company=\"...\" ...>\n",
        "    for tr in soup.find_all(\"tr\", class_=\"job\"):\n",
        "        company = tr.get(\"data-company\") or (tr.find(\"td\", class_=\"company\") and tr.find(\"td\", class_=\"company\").get_text(strip=True)) or \"\"\n",
        "        role = tr.get(\"data-position\") or (tr.find(\"h2\") and tr.find(\"h2\").get_text(strip=True)) or \"\"\n",
        "        tags_attr = tr.get(\"data-tags\") or \"\"\n",
        "        # try to collect tags from tags container too\n",
        "        if not tags_attr:\n",
        "            tags = [t.get_text(strip=True) for t in tr.select(\".tags .tag\")]\n",
        "            tags_attr = \",\".join(tags)\n",
        "        location = tr.get(\"data-location\") or \"\"\n",
        "        # attempt to build absolute URL\n",
        "        a = tr.find(\"a\", attrs={\"itemprop\": \"url\"})\n",
        "        link = \"\"\n",
        "        if a and a.get(\"href\"):\n",
        "            href = a.get(\"href\")\n",
        "            link = href if href.startswith(\"http\") else \"https://remoteok.com\" + href\n",
        "        rows.append({\n",
        "            \"company\": company.strip(),\n",
        "            \"role\": role.strip(),\n",
        "            \"location\": location,\n",
        "            \"tags\": tags_attr,\n",
        "            \"remoteok_url\": link\n",
        "        })\n",
        "    return rows\n",
        "\n",
        "def save_csv(rows, filename=\"remoteok_jobs.csv\"):\n",
        "    df = pd.DataFrame(rows)\n",
        "    df.to_csv(filename, index=False)\n",
        "    print(f\"\\nSaved {len(df)} rows -> {filename}\")\n",
        "\n",
        "def main():\n",
        "    print(\"RemoteOK scraper starting...\")\n",
        "    data, used_url = try_json_endpoints()\n",
        "    if data:\n",
        "        print(\"JSON data loaded from:\", used_url)\n",
        "        rows = parse_json_list(data)\n",
        "        if rows:\n",
        "            save_csv(rows)\n",
        "            return\n",
        "        else:\n",
        "            print(\"JSON returned zero jobs, trying HTML fallback.\")\n",
        "    # fallback to HTML parse\n",
        "    try:\n",
        "        rows = html_fallback(\"https://remoteok.com/r\")\n",
        "        if rows:\n",
        "            save_csv(rows)\n",
        "        else:\n",
        "            print(\"HTML fallback found no jobs.\")\n",
        "    except Exception as e:\n",
        "        print(\"HTML fallback failed:\", e)\n",
        "\n",
        "if __name__ == \"__main__\":\n",
        "    main()\n"
      ]
    },
    {
      "cell_type": "code",
      "source": [
        "from google.colab import files\n",
        "files.download('remoteok_jobs.csv')\n"
      ],
      "metadata": {
        "colab": {
          "base_uri": "https://localhost:8080/",
          "height": 17
        },
        "id": "jv3acu7ZxbND",
        "outputId": "b99cbb53-c18d-4482-e8bb-c7938e2fb5ea"
      },
      "execution_count": 2,
      "outputs": [
        {
          "output_type": "display_data",
          "data": {
            "text/plain": [
              "<IPython.core.display.Javascript object>"
            ],
            "application/javascript": [
              "\n",
              "    async function download(id, filename, size) {\n",
              "      if (!google.colab.kernel.accessAllowed) {\n",
              "        return;\n",
              "      }\n",
              "      const div = document.createElement('div');\n",
              "      const label = document.createElement('label');\n",
              "      label.textContent = `Downloading \"${filename}\": `;\n",
              "      div.appendChild(label);\n",
              "      const progress = document.createElement('progress');\n",
              "      progress.max = size;\n",
              "      div.appendChild(progress);\n",
              "      document.body.appendChild(div);\n",
              "\n",
              "      const buffers = [];\n",
              "      let downloaded = 0;\n",
              "\n",
              "      const channel = await google.colab.kernel.comms.open(id);\n",
              "      // Send a message to notify the kernel that we're ready.\n",
              "      channel.send({})\n",
              "\n",
              "      for await (const message of channel.messages) {\n",
              "        // Send a message to notify the kernel that we're ready.\n",
              "        channel.send({})\n",
              "        if (message.buffers) {\n",
              "          for (const buffer of message.buffers) {\n",
              "            buffers.push(buffer);\n",
              "            downloaded += buffer.byteLength;\n",
              "            progress.value = downloaded;\n",
              "          }\n",
              "        }\n",
              "      }\n",
              "      const blob = new Blob(buffers, {type: 'application/binary'});\n",
              "      const a = document.createElement('a');\n",
              "      a.href = window.URL.createObjectURL(blob);\n",
              "      a.download = filename;\n",
              "      div.appendChild(a);\n",
              "      a.click();\n",
              "      div.remove();\n",
              "    }\n",
              "  "
            ]
          },
          "metadata": {}
        },
        {
          "output_type": "display_data",
          "data": {
            "text/plain": [
              "<IPython.core.display.Javascript object>"
            ],
            "application/javascript": [
              "download(\"download_48de8359-32db-4b72-b663-a447d1b3101b\", \"remoteok_jobs.csv\", 20400)"
            ]
          },
          "metadata": {}
        }
      ]
    }
  ]
}